{
 "cells": [
  {
   "cell_type": "code",
   "execution_count": 1,
   "metadata": {},
   "outputs": [
    {
     "name": "stderr",
     "output_type": "stream",
     "text": [
      "Using TensorFlow backend.\n",
      "C:\\Users\\uSer\\AnacondaMy\\lib\\site-packages\\tensorflow\\python\\framework\\dtypes.py:516: FutureWarning: Passing (type, 1) or '1type' as a synonym of type is deprecated; in a future version of numpy, it will be understood as (type, (1,)) / '(1,)type'.\n",
      "  _np_qint8 = np.dtype([(\"qint8\", np.int8, 1)])\n",
      "C:\\Users\\uSer\\AnacondaMy\\lib\\site-packages\\tensorflow\\python\\framework\\dtypes.py:517: FutureWarning: Passing (type, 1) or '1type' as a synonym of type is deprecated; in a future version of numpy, it will be understood as (type, (1,)) / '(1,)type'.\n",
      "  _np_quint8 = np.dtype([(\"quint8\", np.uint8, 1)])\n",
      "C:\\Users\\uSer\\AnacondaMy\\lib\\site-packages\\tensorflow\\python\\framework\\dtypes.py:518: FutureWarning: Passing (type, 1) or '1type' as a synonym of type is deprecated; in a future version of numpy, it will be understood as (type, (1,)) / '(1,)type'.\n",
      "  _np_qint16 = np.dtype([(\"qint16\", np.int16, 1)])\n",
      "C:\\Users\\uSer\\AnacondaMy\\lib\\site-packages\\tensorflow\\python\\framework\\dtypes.py:519: FutureWarning: Passing (type, 1) or '1type' as a synonym of type is deprecated; in a future version of numpy, it will be understood as (type, (1,)) / '(1,)type'.\n",
      "  _np_quint16 = np.dtype([(\"quint16\", np.uint16, 1)])\n",
      "C:\\Users\\uSer\\AnacondaMy\\lib\\site-packages\\tensorflow\\python\\framework\\dtypes.py:520: FutureWarning: Passing (type, 1) or '1type' as a synonym of type is deprecated; in a future version of numpy, it will be understood as (type, (1,)) / '(1,)type'.\n",
      "  _np_qint32 = np.dtype([(\"qint32\", np.int32, 1)])\n",
      "C:\\Users\\uSer\\AnacondaMy\\lib\\site-packages\\tensorflow\\python\\framework\\dtypes.py:525: FutureWarning: Passing (type, 1) or '1type' as a synonym of type is deprecated; in a future version of numpy, it will be understood as (type, (1,)) / '(1,)type'.\n",
      "  np_resource = np.dtype([(\"resource\", np.ubyte, 1)])\n",
      "C:\\Users\\uSer\\AnacondaMy\\lib\\site-packages\\tensorboard\\compat\\tensorflow_stub\\dtypes.py:541: FutureWarning: Passing (type, 1) or '1type' as a synonym of type is deprecated; in a future version of numpy, it will be understood as (type, (1,)) / '(1,)type'.\n",
      "  _np_qint8 = np.dtype([(\"qint8\", np.int8, 1)])\n",
      "C:\\Users\\uSer\\AnacondaMy\\lib\\site-packages\\tensorboard\\compat\\tensorflow_stub\\dtypes.py:542: FutureWarning: Passing (type, 1) or '1type' as a synonym of type is deprecated; in a future version of numpy, it will be understood as (type, (1,)) / '(1,)type'.\n",
      "  _np_quint8 = np.dtype([(\"quint8\", np.uint8, 1)])\n",
      "C:\\Users\\uSer\\AnacondaMy\\lib\\site-packages\\tensorboard\\compat\\tensorflow_stub\\dtypes.py:543: FutureWarning: Passing (type, 1) or '1type' as a synonym of type is deprecated; in a future version of numpy, it will be understood as (type, (1,)) / '(1,)type'.\n",
      "  _np_qint16 = np.dtype([(\"qint16\", np.int16, 1)])\n",
      "C:\\Users\\uSer\\AnacondaMy\\lib\\site-packages\\tensorboard\\compat\\tensorflow_stub\\dtypes.py:544: FutureWarning: Passing (type, 1) or '1type' as a synonym of type is deprecated; in a future version of numpy, it will be understood as (type, (1,)) / '(1,)type'.\n",
      "  _np_quint16 = np.dtype([(\"quint16\", np.uint16, 1)])\n",
      "C:\\Users\\uSer\\AnacondaMy\\lib\\site-packages\\tensorboard\\compat\\tensorflow_stub\\dtypes.py:545: FutureWarning: Passing (type, 1) or '1type' as a synonym of type is deprecated; in a future version of numpy, it will be understood as (type, (1,)) / '(1,)type'.\n",
      "  _np_qint32 = np.dtype([(\"qint32\", np.int32, 1)])\n",
      "C:\\Users\\uSer\\AnacondaMy\\lib\\site-packages\\tensorboard\\compat\\tensorflow_stub\\dtypes.py:550: FutureWarning: Passing (type, 1) or '1type' as a synonym of type is deprecated; in a future version of numpy, it will be understood as (type, (1,)) / '(1,)type'.\n",
      "  np_resource = np.dtype([(\"resource\", np.ubyte, 1)])\n"
     ]
    }
   ],
   "source": [
    "import numpy as np\n",
    "from keras.utils import to_categorical\n",
    "from keras.datasets import cifar10"
   ]
  },
  {
   "cell_type": "code",
   "execution_count": 2,
   "metadata": {},
   "outputs": [],
   "source": [
    "(x_train, y_train), (x_test, y_test) = cifar10.load_data()"
   ]
  },
  {
   "cell_type": "code",
   "execution_count": 3,
   "metadata": {},
   "outputs": [
    {
     "data": {
      "text/plain": [
       "(50000, 1)"
      ]
     },
     "execution_count": 3,
     "metadata": {},
     "output_type": "execute_result"
    }
   ],
   "source": [
    "y_train.shape"
   ]
  },
  {
   "cell_type": "code",
   "execution_count": 4,
   "metadata": {},
   "outputs": [],
   "source": [
    "NUM_CLASSES = 10\n",
    "x_train = x_train.astype('float32') / 255.0\n",
    "x_test = x_test.astype('float32') / 255.0\n",
    "y_train = to_categorical(y_train, NUM_CLASSES)\n",
    "y_test = to_categorical(y_test, NUM_CLASSES)"
   ]
  },
  {
   "cell_type": "code",
   "execution_count": 5,
   "metadata": {},
   "outputs": [
    {
     "data": {
      "text/plain": [
       "(50000, 10)"
      ]
     },
     "execution_count": 5,
     "metadata": {},
     "output_type": "execute_result"
    }
   ],
   "source": [
    "y_train.shape"
   ]
  },
  {
   "cell_type": "code",
   "execution_count": 6,
   "metadata": {},
   "outputs": [],
   "source": [
    "\n",
    "from keras.layers import Input, Flatten, Dense\n",
    "from keras.models import Model"
   ]
  },
  {
   "cell_type": "code",
   "execution_count": 7,
   "metadata": {},
   "outputs": [],
   "source": [
    "\n",
    "from keras.layers import Conv2D, BatchNormalization, Dropout, LeakyReLU, Activation\n",
    "input_layer = Input((32,32,3))\n",
    "x = Conv2D(filters = 32, kernel_size = 3\n",
    ", strides = 1, padding = 'same')(input_layer)\n",
    "x = BatchNormalization()(x)\n",
    "x = LeakyReLU()(x) # 1\n",
    "\n",
    "x = Conv2D(filters = 32, kernel_size = 3, strides = 2, padding = 'same')(x)\n",
    "x = BatchNormalization()(x)\n",
    "x = LeakyReLU()(x) # 2\n",
    "\n",
    "x = Conv2D(filters = 64, kernel_size = 3, strides = 1, padding = 'same')(x)\n",
    "x = BatchNormalization()(x)\n",
    "x = LeakyReLU()(x) # 3\n",
    "\n",
    "x = Conv2D(filters = 64, kernel_size = 3, strides = 2, padding = 'same')(x)\n",
    "x = BatchNormalization()(x)\n",
    "x = LeakyReLU()(x) # 4\n",
    "\n",
    "x = Flatten()(x) \n",
    "x = Dense(128)(x) # layer of perceptrons\n",
    "\n",
    "x = BatchNormalization()(x) # пакетная нормализация чтобы веса не взлетели\n",
    "\n",
    "x = LeakyReLU()(x) # в качестве активации\n",
    "\n",
    "x = Dropout(rate = 0.5)(x) # как я понял слой прореживания\n",
    "\n",
    "x = Dense(NUM_CLASSES)(x)\n",
    "\n",
    "output_layer = Activation('softmax')(x) # в качестве активации на последнем слое\n",
    "\n",
    "model = Model(input_layer, output_layer)"
   ]
  },
  {
   "cell_type": "code",
   "execution_count": 8,
   "metadata": {},
   "outputs": [],
   "source": [
    "from keras.optimizers import Adam\n",
    "opt = Adam(lr=0.0005)"
   ]
  },
  {
   "cell_type": "code",
   "execution_count": 9,
   "metadata": {},
   "outputs": [
    {
     "data": {
      "text/plain": [
       "(50000, 10)"
      ]
     },
     "execution_count": 9,
     "metadata": {},
     "output_type": "execute_result"
    }
   ],
   "source": [
    "y_train.shape"
   ]
  },
  {
   "cell_type": "code",
   "execution_count": 10,
   "metadata": {},
   "outputs": [],
   "source": [
    "model.compile(loss='categorical_crossentropy', optimizer=opt, metrics=['accuracy'])"
   ]
  },
  {
   "cell_type": "code",
   "execution_count": null,
   "metadata": {},
   "outputs": [],
   "source": []
  },
  {
   "cell_type": "code",
   "execution_count": null,
   "metadata": {},
   "outputs": [],
   "source": []
  },
  {
   "cell_type": "code",
   "execution_count": 39,
   "metadata": {},
   "outputs": [],
   "source": [
    "train_d = list(zip(x_train,y_train))"
   ]
  },
  {
   "cell_type": "code",
   "execution_count": 57,
   "metadata": {},
   "outputs": [
    {
     "name": "stdout",
     "output_type": "stream",
     "text": [
      "10000/10000 [==============================] - 12s 1ms/step\n",
      "[1.1415066361427306, 0.609499990940094]\n",
      "10000/10000 [==============================] - 10s 1ms/step\n",
      "[1.1167012095451354, 0.6157000064849854]\n",
      "10000/10000 [==============================] - 10s 1ms/step\n",
      "[1.101993155479431, 0.6238999962806702]\n",
      "10000/10000 [==============================] - 10s 1ms/step\n",
      "[1.0699267745018006, 0.6292999982833862]\n",
      "10000/10000 [==============================] - 10s 1ms/step\n",
      "[1.0998628616333008, 0.6166999936103821]\n",
      "10000/10000 [==============================] - 10s 1ms/step\n",
      "[1.069721758365631, 0.6301000118255615]\n",
      "10000/10000 [==============================] - 10s 1ms/step\n",
      "[1.0525771975517273, 0.6388999819755554]\n",
      "10000/10000 [==============================] - 10s 1ms/step\n",
      "[1.0527226686477662, 0.630299985408783]\n",
      "10000/10000 [==============================] - 10s 1ms/step\n",
      "[1.0491316795349122, 0.6274999976158142]\n",
      "10000/10000 [==============================] - 10s 1ms/step\n",
      "[1.0167177319526672, 0.6438999772071838]\n"
     ]
    }
   ],
   "source": [
    "for j in range(10):\n",
    "    np.random.shuffle(train_d)\n",
    "    x_train,y_train = list(zip(*train_d))    \n",
    "    x_train = np.array(x_train)\n",
    "    y_train = np.array(y_train)\n",
    "    for i in range(50):\n",
    "            model.train_on_batch(x_train[i*100:(i+1)*100], y_train[i*100:(i+1)*100])\n",
    "    print(model.evaluate(x_test, y_test, batch_size = 1000))\n"
   ]
  },
  {
   "cell_type": "code",
   "execution_count": 55,
   "metadata": {},
   "outputs": [
    {
     "name": "stdout",
     "output_type": "stream",
     "text": [
      "Epoch 1/1\n",
      "100/100 [==============================] - 0s 4ms/step - loss: 1.0698 - accuracy: 0.6100\n",
      "10000/10000 [==============================] - 13s 1ms/step\n",
      "[1.1611854672431945, 0.5934000015258789]\n",
      "Epoch 1/1\n",
      "100/100 [==============================] - 0s 5ms/step - loss: 1.2596 - accuracy: 0.5300\n",
      "10000/10000 [==============================] - 12s 1ms/step\n",
      "[1.157817006111145, 0.595300018787384]\n"
     ]
    },
    {
     "data": {
      "text/plain": [
       "'\\nfor j in range(10):\\n    np.random.shuffle(train_d)\\n    x_train,y_train = list(zip(*train_d))\\n    x_train = np.array(x_train)\\n    y_train = np.array(y_train)\\n    for i in range(50):\\n        model.fit(x_train[i*100:(i+1)*100]\\n        , y_train[i*100:(i+1)*100]\\n        #, batch_size = 100\\n        #, epochs = 1\\n        #, shuffle = True\\n        )\\n    print(model.evaluate(x_test, y_test, batch_size = 1000))\\n'"
      ]
     },
     "execution_count": 55,
     "metadata": {},
     "output_type": "execute_result"
    }
   ],
   "source": [
    "\n",
    "\n",
    "model.fit(x_train[0*100:(0+1)*100]\n",
    "        , y_train[0*100:(0+1)*100]\n",
    "        , batch_size = 100\n",
    "        , epochs = 1\n",
    "        , shuffle = False\n",
    "        )\n",
    "\n",
    "print(model.evaluate(x_test, y_test, batch_size = 1000))\n",
    "\n",
    "for i in range(1,50):\n",
    "        model.fit(x_train[i*100:(i+1)*100]\n",
    "        , y_train[i*100:(i+1)*100]\n",
    "        , batch_size = 100\n",
    "        , epochs = 1\n",
    "        , shuffle = False\n",
    "        , initial_epoch = i-1\n",
    "        )\n",
    "print(model.evaluate(x_test, y_test, batch_size = 1000))\n",
    "'''\n",
    "for j in range(10):\n",
    "    np.random.shuffle(train_d)\n",
    "    x_train,y_train = list(zip(*train_d))\n",
    "    x_train = np.array(x_train)\n",
    "    y_train = np.array(y_train)\n",
    "    for i in range(50):\n",
    "        model.fit(x_train[i*100:(i+1)*100]\n",
    "        , y_train[i*100:(i+1)*100]\n",
    "        #, batch_size = 100\n",
    "        #, epochs = 1\n",
    "        #, shuffle = True\n",
    "        )\n",
    "    print(model.evaluate(x_test, y_test, batch_size = 1000))\n",
    "'''"
   ]
  },
  {
   "cell_type": "code",
   "execution_count": 27,
   "metadata": {},
   "outputs": [
    {
     "name": "stdout",
     "output_type": "stream",
     "text": [
      "10000/10000 [==============================] - 22s 2ms/step\n"
     ]
    },
    {
     "data": {
      "text/plain": [
       "[2.959388852119446, 0.1316000074148178]"
      ]
     },
     "execution_count": 27,
     "metadata": {},
     "output_type": "execute_result"
    }
   ],
   "source": [
    "model.evaluate(x_test, y_test, batch_size = 1000)"
   ]
  },
  {
   "cell_type": "code",
   "execution_count": 56,
   "metadata": {},
   "outputs": [
    {
     "name": "stdout",
     "output_type": "stream",
     "text": [
      "Help on method train_on_batch in module keras.engine.training:\n",
      "\n",
      "train_on_batch(x, y, sample_weight=None, class_weight=None, reset_metrics=True) method of keras.engine.training.Model instance\n",
      "    Runs a single gradient update on a single batch of data.\n",
      "    \n",
      "    # Arguments\n",
      "        x: Numpy array of training data,\n",
      "            or list of Numpy arrays if the model has multiple inputs.\n",
      "            If all inputs in the model are named,\n",
      "            you can also pass a dictionary\n",
      "            mapping input names to Numpy arrays.\n",
      "        y: Numpy array of target data,\n",
      "            or list of Numpy arrays if the model has multiple outputs.\n",
      "            If all outputs in the model are named,\n",
      "            you can also pass a dictionary\n",
      "            mapping output names to Numpy arrays.\n",
      "        sample_weight: Optional array of the same length as x, containing\n",
      "            weights to apply to the model's loss for each sample.\n",
      "            In the case of temporal data, you can pass a 2D array\n",
      "            with shape (samples, sequence_length),\n",
      "            to apply a different weight to every timestep of every sample.\n",
      "            In this case you should make sure to specify\n",
      "            sample_weight_mode=\"temporal\" in compile().\n",
      "        class_weight: Optional dictionary mapping\n",
      "            class indices (integers) to\n",
      "            a weight (float) to apply to the model's loss for the samples\n",
      "            from this class during training.\n",
      "            This can be useful to tell the model to \"pay more attention\" to\n",
      "            samples from an under-represented class.\n",
      "        reset_metrics: If `True`, the metrics returned will be only for this\n",
      "            batch. If `False`, the metrics will be statefully accumulated across\n",
      "            batches.\n",
      "    \n",
      "    # Returns\n",
      "        Scalar training loss\n",
      "        (if the model has a single output and no metrics)\n",
      "        or list of scalars (if the model has multiple outputs\n",
      "        and/or metrics). The attribute `model.metrics_names` will give you\n",
      "        the display labels for the scalar outputs.\n",
      "\n"
     ]
    }
   ],
   "source": [
    "help(model.train_on_batch)"
   ]
  },
  {
   "cell_type": "code",
   "execution_count": null,
   "metadata": {},
   "outputs": [],
   "source": []
  }
 ],
 "metadata": {
  "kernelspec": {
   "display_name": "Python 3",
   "language": "python",
   "name": "python3"
  },
  "language_info": {
   "codemirror_mode": {
    "name": "ipython",
    "version": 3
   },
   "file_extension": ".py",
   "mimetype": "text/x-python",
   "name": "python",
   "nbconvert_exporter": "python",
   "pygments_lexer": "ipython3",
   "version": "3.7.6"
  }
 },
 "nbformat": 4,
 "nbformat_minor": 4
}
